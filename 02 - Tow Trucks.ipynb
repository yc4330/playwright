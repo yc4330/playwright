{
 "cells": [
  {
   "cell_type": "markdown",
   "metadata": {},
   "source": [
    "# Texas Tow Trucks\n",
    "\n",
    "We're going to scrape some [tow trucks in Texas](https://www.tdlr.texas.gov/tools_search/). "
   ]
  },
  {
   "cell_type": "markdown",
   "metadata": {},
   "source": [
    "# Part One: Building a company list\n",
    "\n",
    "Search for businesses with the word **WRECK** in their names.\n",
    "\n",
    "* **Tip:** Start by scraping the first page to a dataframe, then expand to a loop that combines all of the pages. Finally combine all of the dataframes with `pd.concat`. You might find [this page helpful](https://jonathansoma.com/everything/scraping/pagination/), although the \"On an interactive site\" example uses Selenium instead of Playwright. You should be able to figure out how to change it!\n",
    "* **Tip:** You can't just do a `try`/`except`, because even if you ask for page 99999 it will always give you the last page again! Watch out that you don't get stuck in an infinite loop!"
   ]
  },
  {
   "cell_type": "code",
   "execution_count": 1,
   "metadata": {},
   "outputs": [
    {
     "data": {
      "text/plain": [
       "<Response url='https://www.tdlr.texas.gov/tools_search/' request=<Request url='https://www.tdlr.texas.gov/tools_search/' method='GET'>>"
      ]
     },
     "execution_count": 1,
     "metadata": {},
     "output_type": "execute_result"
    }
   ],
   "source": [
    "from playwright.async_api import async_playwright\n",
    "playwright = await async_playwright().start()\n",
    "browser = await playwright.chromium.launch(headless=False)\n",
    "page = await browser.new_page()\n",
    "await page.goto(\"https://www.tdlr.texas.gov/tools_search/\")"
   ]
  },
  {
   "cell_type": "code",
   "execution_count": 2,
   "metadata": {},
   "outputs": [],
   "source": [
    "await page.locator(\"#namebutton\").click()"
   ]
  },
  {
   "cell_type": "code",
   "execution_count": 3,
   "metadata": {},
   "outputs": [],
   "source": [
    "await page.locator(\"#namedata\").fill(\"WRECK\")"
   ]
  },
  {
   "cell_type": "code",
   "execution_count": 7,
   "metadata": {},
   "outputs": [],
   "source": [
    "await page.get_by_text(\"Search\", exact=True).click()"
   ]
  },
  {
   "cell_type": "code",
   "execution_count": 8,
   "metadata": {},
   "outputs": [
    {
     "name": "stderr",
     "output_type": "stream",
     "text": [
      "/var/folders/21/d_7v4w8j3jg95zjx8lfqpw800000gn/T/ipykernel_75609/958859366.py:3: FutureWarning: Passing literal html to 'read_html' is deprecated and will be removed in a future version. To read from a literal string, wrap it in a 'StringIO' object.\n",
      "  tables = pd.read_html(html)\n"
     ]
    }
   ],
   "source": [
    "import pandas as pd\n",
    "html = await page.content()\n",
    "tables = pd.read_html(html)"
   ]
  },
  {
   "cell_type": "code",
   "execution_count": 29,
   "metadata": {},
   "outputs": [],
   "source": [
    "df = tables[2]"
   ]
  },
  {
   "cell_type": "code",
   "execution_count": 30,
   "metadata": {},
   "outputs": [
    {
     "data": {
      "text/plain": [
       "0       Customer\n",
       "1       DBA Name\n",
       "2    TDLR Number\n",
       "3           City\n",
       "4          State\n",
       "5       Zip code\n",
       "Name: 0, dtype: object"
      ]
     },
     "execution_count": 30,
     "metadata": {},
     "output_type": "execute_result"
    }
   ],
   "source": [
    "headers = df.iloc[0]\n",
    "headers"
   ]
  },
  {
   "cell_type": "code",
   "execution_count": 31,
   "metadata": {},
   "outputs": [],
   "source": [
    "df = pd.DataFrame(df.values[1:], columns=headers)"
   ]
  },
  {
   "cell_type": "code",
   "execution_count": 32,
   "metadata": {},
   "outputs": [
    {
     "data": {
      "text/html": [
       "<div>\n",
       "<style scoped>\n",
       "    .dataframe tbody tr th:only-of-type {\n",
       "        vertical-align: middle;\n",
       "    }\n",
       "\n",
       "    .dataframe tbody tr th {\n",
       "        vertical-align: top;\n",
       "    }\n",
       "\n",
       "    .dataframe thead th {\n",
       "        text-align: right;\n",
       "    }\n",
       "</style>\n",
       "<table border=\"1\" class=\"dataframe\">\n",
       "  <thead>\n",
       "    <tr style=\"text-align: right;\">\n",
       "      <th></th>\n",
       "      <th>Customer</th>\n",
       "      <th>DBA Name</th>\n",
       "      <th>TDLR Number</th>\n",
       "      <th>City</th>\n",
       "      <th>State</th>\n",
       "      <th>Zip code</th>\n",
       "    </tr>\n",
       "  </thead>\n",
       "  <tbody>\n",
       "    <tr>\n",
       "      <th>0</th>\n",
       "      <td>WRIGHT'S WRECKER SERVICE</td>\n",
       "      <td>NaN</td>\n",
       "      <td>0593304VSF (Expired!)</td>\n",
       "      <td>NASH</td>\n",
       "      <td>TX</td>\n",
       "      <td>75569</td>\n",
       "    </tr>\n",
       "    <tr>\n",
       "      <th>1</th>\n",
       "      <td>WRIGHT'S WRECKER SERVICE</td>\n",
       "      <td>NaN</td>\n",
       "      <td>0508198VSF</td>\n",
       "      <td>NASH</td>\n",
       "      <td>TX</td>\n",
       "      <td>75569</td>\n",
       "    </tr>\n",
       "    <tr>\n",
       "      <th>2</th>\n",
       "      <td>XTREME WRECKER SERVICES INC.</td>\n",
       "      <td>NaN</td>\n",
       "      <td>0650507VSF</td>\n",
       "      <td>BARSTOW</td>\n",
       "      <td>TX</td>\n",
       "      <td>79719</td>\n",
       "    </tr>\n",
       "    <tr>\n",
       "      <th>3</th>\n",
       "      <td>XTREME WRECKER SERVICES, INC</td>\n",
       "      <td>NaN</td>\n",
       "      <td>006504760C</td>\n",
       "      <td>BARSTOW</td>\n",
       "      <td>TX</td>\n",
       "      <td>79719</td>\n",
       "    </tr>\n",
       "  </tbody>\n",
       "</table>\n",
       "</div>"
      ],
      "text/plain": [
       "0                      Customer DBA Name            TDLR Number     City  \\\n",
       "0      WRIGHT'S WRECKER SERVICE      NaN  0593304VSF (Expired!)     NASH   \n",
       "1      WRIGHT'S WRECKER SERVICE      NaN             0508198VSF     NASH   \n",
       "2  XTREME WRECKER SERVICES INC.      NaN             0650507VSF  BARSTOW   \n",
       "3  XTREME WRECKER SERVICES, INC      NaN             006504760C  BARSTOW   \n",
       "\n",
       "0 State Zip code  \n",
       "0    TX    75569  \n",
       "1    TX    75569  \n",
       "2    TX    79719  \n",
       "3    TX    79719  "
      ]
     },
     "execution_count": 32,
     "metadata": {},
     "output_type": "execute_result"
    }
   ],
   "source": [
    "df"
   ]
  },
  {
   "cell_type": "code",
   "execution_count": 14,
   "metadata": {},
   "outputs": [],
   "source": [
    "import warnings\n",
    "warnings.simplefilter(action='ignore', category=FutureWarning)"
   ]
  },
  {
   "cell_type": "code",
   "execution_count": 33,
   "metadata": {},
   "outputs": [],
   "source": [
    "all_tables = []\n",
    "for i in range(41):\n",
    "    url = f\"https://www.tdlr.texas.gov/tools_search/mccs_search_process.asp?page={i+1}&stype=name&ls_temp=WRECK&ls_carrier_type=COMPANY\"\n",
    "    await page.goto(url)\n",
    "    await page.get_by_text(\"DBA Name\").wait_for()\n",
    "    html = await page.content()\n",
    "    tables = pd.read_html(html)\n",
    "    df = tables[2]\n",
    "    headers = df.iloc[0]\n",
    "    df = pd.DataFrame(df.values[1:], columns=headers)\n",
    "    all_tables.append(df)"
   ]
  },
  {
   "cell_type": "code",
   "execution_count": 34,
   "metadata": {},
   "outputs": [
    {
     "data": {
      "text/html": [
       "<div>\n",
       "<style scoped>\n",
       "    .dataframe tbody tr th:only-of-type {\n",
       "        vertical-align: middle;\n",
       "    }\n",
       "\n",
       "    .dataframe tbody tr th {\n",
       "        vertical-align: top;\n",
       "    }\n",
       "\n",
       "    .dataframe thead th {\n",
       "        text-align: right;\n",
       "    }\n",
       "</style>\n",
       "<table border=\"1\" class=\"dataframe\">\n",
       "  <thead>\n",
       "    <tr style=\"text-align: right;\">\n",
       "      <th></th>\n",
       "      <th>Customer</th>\n",
       "      <th>DBA Name</th>\n",
       "      <th>TDLR Number</th>\n",
       "      <th>City</th>\n",
       "      <th>State</th>\n",
       "      <th>Zip code</th>\n",
       "    </tr>\n",
       "  </thead>\n",
       "  <tbody>\n",
       "    <tr>\n",
       "      <th>0</th>\n",
       "      <td>WRIGHT'S WRECKER SERVICE</td>\n",
       "      <td>NaN</td>\n",
       "      <td>0593304VSF (Expired!)</td>\n",
       "      <td>NASH</td>\n",
       "      <td>TX</td>\n",
       "      <td>75569</td>\n",
       "    </tr>\n",
       "    <tr>\n",
       "      <th>1</th>\n",
       "      <td>WRIGHT'S WRECKER SERVICE</td>\n",
       "      <td>NaN</td>\n",
       "      <td>0508198VSF</td>\n",
       "      <td>NASH</td>\n",
       "      <td>TX</td>\n",
       "      <td>75569</td>\n",
       "    </tr>\n",
       "    <tr>\n",
       "      <th>2</th>\n",
       "      <td>XTREME WRECKER SERVICES INC.</td>\n",
       "      <td>NaN</td>\n",
       "      <td>0650507VSF</td>\n",
       "      <td>BARSTOW</td>\n",
       "      <td>TX</td>\n",
       "      <td>79719</td>\n",
       "    </tr>\n",
       "    <tr>\n",
       "      <th>3</th>\n",
       "      <td>XTREME WRECKER SERVICES, INC</td>\n",
       "      <td>NaN</td>\n",
       "      <td>006504760C</td>\n",
       "      <td>BARSTOW</td>\n",
       "      <td>TX</td>\n",
       "      <td>79719</td>\n",
       "    </tr>\n",
       "  </tbody>\n",
       "</table>\n",
       "</div>"
      ],
      "text/plain": [
       "0                      Customer DBA Name            TDLR Number     City  \\\n",
       "0      WRIGHT'S WRECKER SERVICE      NaN  0593304VSF (Expired!)     NASH   \n",
       "1      WRIGHT'S WRECKER SERVICE      NaN             0508198VSF     NASH   \n",
       "2  XTREME WRECKER SERVICES INC.      NaN             0650507VSF  BARSTOW   \n",
       "3  XTREME WRECKER SERVICES, INC      NaN             006504760C  BARSTOW   \n",
       "\n",
       "0 State Zip code  \n",
       "0    TX    75569  \n",
       "1    TX    75569  \n",
       "2    TX    79719  \n",
       "3    TX    79719  "
      ]
     },
     "execution_count": 34,
     "metadata": {},
     "output_type": "execute_result"
    }
   ],
   "source": [
    "all_tables[40]"
   ]
  },
  {
   "cell_type": "code",
   "execution_count": 38,
   "metadata": {},
   "outputs": [
    {
     "data": {
      "text/html": [
       "<div>\n",
       "<style scoped>\n",
       "    .dataframe tbody tr th:only-of-type {\n",
       "        vertical-align: middle;\n",
       "    }\n",
       "\n",
       "    .dataframe tbody tr th {\n",
       "        vertical-align: top;\n",
       "    }\n",
       "\n",
       "    .dataframe thead th {\n",
       "        text-align: right;\n",
       "    }\n",
       "</style>\n",
       "<table border=\"1\" class=\"dataframe\">\n",
       "  <thead>\n",
       "    <tr style=\"text-align: right;\">\n",
       "      <th></th>\n",
       "      <th>Customer</th>\n",
       "      <th>DBA Name</th>\n",
       "      <th>TDLR Number</th>\n",
       "      <th>City</th>\n",
       "      <th>State</th>\n",
       "      <th>Zip code</th>\n",
       "    </tr>\n",
       "  </thead>\n",
       "  <tbody>\n",
       "    <tr>\n",
       "      <th>0</th>\n",
       "      <td>CALIBER WRECKER SERVICE LLC</td>\n",
       "      <td>NaN</td>\n",
       "      <td>006598046C (Insurance not applied !)</td>\n",
       "      <td>CHANNELVIEW</td>\n",
       "      <td>TX</td>\n",
       "      <td>77530</td>\n",
       "    </tr>\n",
       "    <tr>\n",
       "      <th>1</th>\n",
       "      <td>1ST CHOICE WRECKER SERVICE</td>\n",
       "      <td>1ST CHOICE PAINT &amp; BODY, INC</td>\n",
       "      <td>006096604C</td>\n",
       "      <td>TERRELL</td>\n",
       "      <td>TX</td>\n",
       "      <td>75160</td>\n",
       "    </tr>\n",
       "    <tr>\n",
       "      <th>2</th>\n",
       "      <td>1ST CHOICE WRECKER SERVICE</td>\n",
       "      <td>1ST CHOICE PAINT &amp; BODY, INC.</td>\n",
       "      <td>0612137VSF</td>\n",
       "      <td>TERRELL</td>\n",
       "      <td>TX</td>\n",
       "      <td>75160</td>\n",
       "    </tr>\n",
       "    <tr>\n",
       "      <th>3</th>\n",
       "      <td>1ST CHOICE WRECKER SERVICE LLC</td>\n",
       "      <td>NaN</td>\n",
       "      <td>006529369C</td>\n",
       "      <td>SILSBEE</td>\n",
       "      <td>TX</td>\n",
       "      <td>77656</td>\n",
       "    </tr>\n",
       "    <tr>\n",
       "      <th>4</th>\n",
       "      <td>1ST CHOICE WRECKER SERVICE LLC</td>\n",
       "      <td>NaN</td>\n",
       "      <td>0652937VSF</td>\n",
       "      <td>SILSBEE</td>\n",
       "      <td>TX</td>\n",
       "      <td>77656</td>\n",
       "    </tr>\n",
       "    <tr>\n",
       "      <th>...</th>\n",
       "      <td>...</td>\n",
       "      <td>...</td>\n",
       "      <td>...</td>\n",
       "      <td>...</td>\n",
       "      <td>...</td>\n",
       "      <td>...</td>\n",
       "    </tr>\n",
       "    <tr>\n",
       "      <th>799</th>\n",
       "      <td>WRIGHT'S WRECKER SERVICE</td>\n",
       "      <td>NaN</td>\n",
       "      <td>005388553C</td>\n",
       "      <td>NASH</td>\n",
       "      <td>TX</td>\n",
       "      <td>75569</td>\n",
       "    </tr>\n",
       "    <tr>\n",
       "      <th>800</th>\n",
       "      <td>WRIGHT'S WRECKER SERVICE</td>\n",
       "      <td>NaN</td>\n",
       "      <td>0593304VSF (Expired!)</td>\n",
       "      <td>NASH</td>\n",
       "      <td>TX</td>\n",
       "      <td>75569</td>\n",
       "    </tr>\n",
       "    <tr>\n",
       "      <th>801</th>\n",
       "      <td>WRIGHT'S WRECKER SERVICE</td>\n",
       "      <td>NaN</td>\n",
       "      <td>0508198VSF</td>\n",
       "      <td>NASH</td>\n",
       "      <td>TX</td>\n",
       "      <td>75569</td>\n",
       "    </tr>\n",
       "    <tr>\n",
       "      <th>802</th>\n",
       "      <td>XTREME WRECKER SERVICES INC.</td>\n",
       "      <td>NaN</td>\n",
       "      <td>0650507VSF</td>\n",
       "      <td>BARSTOW</td>\n",
       "      <td>TX</td>\n",
       "      <td>79719</td>\n",
       "    </tr>\n",
       "    <tr>\n",
       "      <th>803</th>\n",
       "      <td>XTREME WRECKER SERVICES, INC</td>\n",
       "      <td>NaN</td>\n",
       "      <td>006504760C</td>\n",
       "      <td>BARSTOW</td>\n",
       "      <td>TX</td>\n",
       "      <td>79719</td>\n",
       "    </tr>\n",
       "  </tbody>\n",
       "</table>\n",
       "<p>804 rows × 6 columns</p>\n",
       "</div>"
      ],
      "text/plain": [
       "0                          Customer                       DBA Name  \\\n",
       "0       CALIBER WRECKER SERVICE LLC                            NaN   \n",
       "1        1ST CHOICE WRECKER SERVICE   1ST CHOICE PAINT & BODY, INC   \n",
       "2        1ST CHOICE WRECKER SERVICE  1ST CHOICE PAINT & BODY, INC.   \n",
       "3    1ST CHOICE WRECKER SERVICE LLC                            NaN   \n",
       "4    1ST CHOICE WRECKER SERVICE LLC                            NaN   \n",
       "..                              ...                            ...   \n",
       "799        WRIGHT'S WRECKER SERVICE                            NaN   \n",
       "800        WRIGHT'S WRECKER SERVICE                            NaN   \n",
       "801        WRIGHT'S WRECKER SERVICE                            NaN   \n",
       "802    XTREME WRECKER SERVICES INC.                            NaN   \n",
       "803    XTREME WRECKER SERVICES, INC                            NaN   \n",
       "\n",
       "0                             TDLR Number         City State Zip code  \n",
       "0    006598046C (Insurance not applied !)  CHANNELVIEW    TX    77530  \n",
       "1                              006096604C      TERRELL    TX    75160  \n",
       "2                              0612137VSF      TERRELL    TX    75160  \n",
       "3                              006529369C      SILSBEE    TX    77656  \n",
       "4                              0652937VSF      SILSBEE    TX    77656  \n",
       "..                                    ...          ...   ...      ...  \n",
       "799                            005388553C         NASH    TX    75569  \n",
       "800                 0593304VSF (Expired!)         NASH    TX    75569  \n",
       "801                            0508198VSF         NASH    TX    75569  \n",
       "802                            0650507VSF      BARSTOW    TX    79719  \n",
       "803                            006504760C      BARSTOW    TX    79719  \n",
       "\n",
       "[804 rows x 6 columns]"
      ]
     },
     "execution_count": 38,
     "metadata": {},
     "output_type": "execute_result"
    }
   ],
   "source": [
    "list_df = pd.concat(all_tables).reset_index(drop=True)\n",
    "list_df"
   ]
  },
  {
   "cell_type": "markdown",
   "metadata": {},
   "source": [
    "### Cleanup\n",
    "\n",
    "If you haven't already, rename the columns to be:\n",
    "    \n",
    "    * Customer\n",
    "    * DBA Name\n",
    "    * TDLR Number\n",
    "    * City\n",
    "    * State\n",
    "    * Zip code\n",
    "\n",
    "and remove all of the rows where the customer name is `Customer`."
   ]
  },
  {
   "cell_type": "code",
   "execution_count": 39,
   "metadata": {},
   "outputs": [
    {
     "data": {
      "text/html": [
       "<div>\n",
       "<style scoped>\n",
       "    .dataframe tbody tr th:only-of-type {\n",
       "        vertical-align: middle;\n",
       "    }\n",
       "\n",
       "    .dataframe tbody tr th {\n",
       "        vertical-align: top;\n",
       "    }\n",
       "\n",
       "    .dataframe thead th {\n",
       "        text-align: right;\n",
       "    }\n",
       "</style>\n",
       "<table border=\"1\" class=\"dataframe\">\n",
       "  <thead>\n",
       "    <tr style=\"text-align: right;\">\n",
       "      <th></th>\n",
       "      <th>Customer</th>\n",
       "      <th>DBA Name</th>\n",
       "      <th>TDLR Number</th>\n",
       "      <th>City</th>\n",
       "      <th>State</th>\n",
       "      <th>Zip code</th>\n",
       "    </tr>\n",
       "  </thead>\n",
       "  <tbody>\n",
       "    <tr>\n",
       "      <th>0</th>\n",
       "      <td>CALIBER WRECKER SERVICE LLC</td>\n",
       "      <td>NaN</td>\n",
       "      <td>006598046C (Insurance not applied !)</td>\n",
       "      <td>CHANNELVIEW</td>\n",
       "      <td>TX</td>\n",
       "      <td>77530</td>\n",
       "    </tr>\n",
       "    <tr>\n",
       "      <th>1</th>\n",
       "      <td>1ST CHOICE WRECKER SERVICE</td>\n",
       "      <td>1ST CHOICE PAINT &amp; BODY, INC</td>\n",
       "      <td>006096604C</td>\n",
       "      <td>TERRELL</td>\n",
       "      <td>TX</td>\n",
       "      <td>75160</td>\n",
       "    </tr>\n",
       "    <tr>\n",
       "      <th>2</th>\n",
       "      <td>1ST CHOICE WRECKER SERVICE</td>\n",
       "      <td>1ST CHOICE PAINT &amp; BODY, INC.</td>\n",
       "      <td>0612137VSF</td>\n",
       "      <td>TERRELL</td>\n",
       "      <td>TX</td>\n",
       "      <td>75160</td>\n",
       "    </tr>\n",
       "    <tr>\n",
       "      <th>3</th>\n",
       "      <td>1ST CHOICE WRECKER SERVICE LLC</td>\n",
       "      <td>NaN</td>\n",
       "      <td>006529369C</td>\n",
       "      <td>SILSBEE</td>\n",
       "      <td>TX</td>\n",
       "      <td>77656</td>\n",
       "    </tr>\n",
       "    <tr>\n",
       "      <th>4</th>\n",
       "      <td>1ST CHOICE WRECKER SERVICE LLC</td>\n",
       "      <td>NaN</td>\n",
       "      <td>0652937VSF</td>\n",
       "      <td>SILSBEE</td>\n",
       "      <td>TX</td>\n",
       "      <td>77656</td>\n",
       "    </tr>\n",
       "    <tr>\n",
       "      <th>...</th>\n",
       "      <td>...</td>\n",
       "      <td>...</td>\n",
       "      <td>...</td>\n",
       "      <td>...</td>\n",
       "      <td>...</td>\n",
       "      <td>...</td>\n",
       "    </tr>\n",
       "    <tr>\n",
       "      <th>799</th>\n",
       "      <td>WRIGHT'S WRECKER SERVICE</td>\n",
       "      <td>NaN</td>\n",
       "      <td>005388553C</td>\n",
       "      <td>NASH</td>\n",
       "      <td>TX</td>\n",
       "      <td>75569</td>\n",
       "    </tr>\n",
       "    <tr>\n",
       "      <th>800</th>\n",
       "      <td>WRIGHT'S WRECKER SERVICE</td>\n",
       "      <td>NaN</td>\n",
       "      <td>0593304VSF (Expired!)</td>\n",
       "      <td>NASH</td>\n",
       "      <td>TX</td>\n",
       "      <td>75569</td>\n",
       "    </tr>\n",
       "    <tr>\n",
       "      <th>801</th>\n",
       "      <td>WRIGHT'S WRECKER SERVICE</td>\n",
       "      <td>NaN</td>\n",
       "      <td>0508198VSF</td>\n",
       "      <td>NASH</td>\n",
       "      <td>TX</td>\n",
       "      <td>75569</td>\n",
       "    </tr>\n",
       "    <tr>\n",
       "      <th>802</th>\n",
       "      <td>XTREME WRECKER SERVICES INC.</td>\n",
       "      <td>NaN</td>\n",
       "      <td>0650507VSF</td>\n",
       "      <td>BARSTOW</td>\n",
       "      <td>TX</td>\n",
       "      <td>79719</td>\n",
       "    </tr>\n",
       "    <tr>\n",
       "      <th>803</th>\n",
       "      <td>XTREME WRECKER SERVICES, INC</td>\n",
       "      <td>NaN</td>\n",
       "      <td>006504760C</td>\n",
       "      <td>BARSTOW</td>\n",
       "      <td>TX</td>\n",
       "      <td>79719</td>\n",
       "    </tr>\n",
       "  </tbody>\n",
       "</table>\n",
       "<p>804 rows × 6 columns</p>\n",
       "</div>"
      ],
      "text/plain": [
       "0                          Customer                       DBA Name  \\\n",
       "0       CALIBER WRECKER SERVICE LLC                            NaN   \n",
       "1        1ST CHOICE WRECKER SERVICE   1ST CHOICE PAINT & BODY, INC   \n",
       "2        1ST CHOICE WRECKER SERVICE  1ST CHOICE PAINT & BODY, INC.   \n",
       "3    1ST CHOICE WRECKER SERVICE LLC                            NaN   \n",
       "4    1ST CHOICE WRECKER SERVICE LLC                            NaN   \n",
       "..                              ...                            ...   \n",
       "799        WRIGHT'S WRECKER SERVICE                            NaN   \n",
       "800        WRIGHT'S WRECKER SERVICE                            NaN   \n",
       "801        WRIGHT'S WRECKER SERVICE                            NaN   \n",
       "802    XTREME WRECKER SERVICES INC.                            NaN   \n",
       "803    XTREME WRECKER SERVICES, INC                            NaN   \n",
       "\n",
       "0                             TDLR Number         City State Zip code  \n",
       "0    006598046C (Insurance not applied !)  CHANNELVIEW    TX    77530  \n",
       "1                              006096604C      TERRELL    TX    75160  \n",
       "2                              0612137VSF      TERRELL    TX    75160  \n",
       "3                              006529369C      SILSBEE    TX    77656  \n",
       "4                              0652937VSF      SILSBEE    TX    77656  \n",
       "..                                    ...          ...   ...      ...  \n",
       "799                            005388553C         NASH    TX    75569  \n",
       "800                 0593304VSF (Expired!)         NASH    TX    75569  \n",
       "801                            0508198VSF         NASH    TX    75569  \n",
       "802                            0650507VSF      BARSTOW    TX    79719  \n",
       "803                            006504760C      BARSTOW    TX    79719  \n",
       "\n",
       "[804 rows x 6 columns]"
      ]
     },
     "execution_count": 39,
     "metadata": {},
     "output_type": "execute_result"
    }
   ],
   "source": [
    "list_df[list_df['Customer'] != 'Customer']"
   ]
  },
  {
   "cell_type": "code",
   "execution_count": null,
   "metadata": {},
   "outputs": [],
   "source": []
  },
  {
   "cell_type": "markdown",
   "metadata": {},
   "source": [
    "## Save as `wreckers.csv`"
   ]
  },
  {
   "cell_type": "code",
   "execution_count": 41,
   "metadata": {},
   "outputs": [],
   "source": [
    "list_df.to_csv(\"wreckers.csv\", index=False)"
   ]
  },
  {
   "cell_type": "code",
   "execution_count": null,
   "metadata": {},
   "outputs": [],
   "source": []
  },
  {
   "cell_type": "markdown",
   "metadata": {},
   "source": [
    "# Part Two: Company info\n",
    "\n",
    "> You can use whatever tool you'd like for this, but form submission doesn't necessarily mean Playwright! If you want to go the `requests` route instead, feel free to [look at this page](https://jonathansoma.com/everything/scraping/pretending-to-be-a-browser/) about several ways to pretend to be a browser.\n",
    "\n",
    "## Step 1: Scraping one page\n",
    "\n",
    "Try searching from the [tools page](https://www.tdlr.texas.gov/tools_search/) for the TDLR Number `006556161C`. From the results page, scrape the:\n",
    "\n",
    "* Business name\n",
    "* Phone number\n",
    "* License status\n",
    "* Physical address\n",
    "\n",
    "And save the results into a dictionary. Also include `TDLR Number` in the dictionary. **Print the dictionary**.\n",
    "\n",
    "> ***Tip:** It's best if each item has its own key, but **it's fine to pull \"larger\" sections of the page and split them up in pandas later on***\n",
    ">\n",
    "> ***Tip:** Be sure you don't forget to include `TDLR Number` in the dictionary!*"
   ]
  },
  {
   "cell_type": "code",
   "execution_count": 42,
   "metadata": {},
   "outputs": [],
   "source": [
    "await page.goto(\"https://www.tdlr.texas.gov/tools_search/\")\n",
    "await page.locator(\"#mcrbutton\").click()\n",
    "await page.locator(\"#mcrdata\").fill(\"006556161C\")"
   ]
  },
  {
   "cell_type": "code",
   "execution_count": 43,
   "metadata": {},
   "outputs": [],
   "source": [
    "await page.get_by_text(\"Search\", exact=True).click()"
   ]
  },
  {
   "cell_type": "code",
   "execution_count": 47,
   "metadata": {},
   "outputs": [],
   "source": [
    "from bs4 import BeautifulSoup\n",
    "html = await page.content()\n",
    "doc = BeautifulSoup(html)"
   ]
  },
  {
   "cell_type": "code",
   "execution_count": 91,
   "metadata": {},
   "outputs": [],
   "source": [
    "table1 = doc.find('table', align='center', border=\"0\", cellpadding=\"0\", cellspacing=\"0\", width=\"\")\n",
    "info = table1.find_all('td')\n",
    "Business_name = info[2].text.split('\\xa0')[-1]\n",
    "Phone_number = info[-2].text.split('\\xa0')[-1]"
   ]
  },
  {
   "cell_type": "code",
   "execution_count": 86,
   "metadata": {},
   "outputs": [],
   "source": [
    "table2 = doc.find('table', align='center', border=\"1\", cellpadding=\"1\", cellspacing=\"0\")\n",
    "info = table2.find_all('td')\n",
    "License_status = info[1].text.split('\\xa0')[-1]\n",
    "Physical_address = info[-1].text.split('Physical:')[-1].replace('\\n', '').replace('\\t', '').replace('\\xa0', '')"
   ]
  },
  {
   "cell_type": "code",
   "execution_count": 92,
   "metadata": {},
   "outputs": [
    {
     "data": {
      "text/plain": [
       "{'TDLR_Number': '006556161C',\n",
       " 'Business_name': 'DIRTY SOUTH TRANSPORT AND RECOVERY, LLC ',\n",
       " 'Phone_number': '713-259-5445',\n",
       " 'License_status': 'Active',\n",
       " 'Physical_address': '11053 LORETTA LN    PLANTERSVILLE,TX.77363'}"
      ]
     },
     "execution_count": 92,
     "metadata": {},
     "output_type": "execute_result"
    }
   ],
   "source": [
    "dic = {\n",
    "    'TDLR_Number': '006556161C',\n",
    "    'Business_name': Business_name,\n",
    "    'Phone_number': Phone_number,\n",
    "    'License_status': License_status,\n",
    "    'Physical_address': Physical_address.strip()\n",
    "}\n",
    "dic"
   ]
  },
  {
   "cell_type": "markdown",
   "metadata": {},
   "source": [
    "## Step 2: Move into one cell\n",
    "\n",
    "Move the code above all into one cell that relies on the variable `tdlr_number`.\n",
    "\n",
    "Add the code below to the page and confirm that it displays the data for the correct result.\n",
    "\n",
    "```python\n",
    "tdlr_number = '0654479VSF'\n",
    "```\n",
    "\n",
    "Confirm that the information is correct. Did it not work out? Go back and edit your selectors, or be a little broader in the parts of the page you sweep up."
   ]
  },
  {
   "cell_type": "code",
   "execution_count": 97,
   "metadata": {},
   "outputs": [
    {
     "data": {
      "text/plain": [
       "{'TDLR_Number': '0654479VSF',\n",
       " 'Business_name': '24/7TOWINGANDRECOVERYLLC',\n",
       " 'Phone_number': '4325576733',\n",
       " 'License_status': 'Active',\n",
       " 'Physical_address': '3601 N COUNTY ROAD 1148    MIDLAND,TX.79705'}"
      ]
     },
     "execution_count": 97,
     "metadata": {},
     "output_type": "execute_result"
    }
   ],
   "source": [
    "tdlr_number = '0654479VSF'\n",
    "await page.goto(\"https://www.tdlr.texas.gov/tools_search/\")\n",
    "await page.locator(\"#mcrbutton\").click()\n",
    "await page.locator(\"#mcrdata\").fill(tdlr_number)\n",
    "await page.get_by_text(\"Search\", exact=True).click()\n",
    "html = await page.content()\n",
    "doc = BeautifulSoup(html)\n",
    "table1 = doc.find('table', align='center', border=\"0\", cellpadding=\"0\", cellspacing=\"0\", width=\"\")\n",
    "info = table1.find_all('td')\n",
    "Business_name = info[2].text.split('\\xa0')[-1]\n",
    "Phone_number = info[-2].text.split('\\xa0')[-1]\n",
    "table2 = doc.find('table', align='center', border=\"1\", cellpadding=\"1\", cellspacing=\"0\")\n",
    "info = table2.find_all('td')\n",
    "License_status = info[1].text.split('\\xa0')[-1]\n",
    "Physical_address = info[-1].text.split('Physical:')[-1].replace('\\n', '').replace('\\t', '').replace('\\xa0', '')\n",
    "dic = {\n",
    "    'TDLR_Number': tdlr_number,\n",
    "    'Business_name': Business_name,\n",
    "    'Phone_number': Phone_number,\n",
    "    'License_status': License_status,\n",
    "    'Physical_address': Physical_address.strip()\n",
    "}\n",
    "dic"
   ]
  },
  {
   "cell_type": "code",
   "execution_count": null,
   "metadata": {},
   "outputs": [],
   "source": []
  },
  {
   "cell_type": "markdown",
   "metadata": {},
   "source": [
    "## Step 3: Scraping many pages\n",
    "\n",
    "Using pandas, read in `trucks-subset.csv`."
   ]
  },
  {
   "cell_type": "code",
   "execution_count": 98,
   "metadata": {},
   "outputs": [
    {
     "data": {
      "text/html": [
       "<div>\n",
       "<style scoped>\n",
       "    .dataframe tbody tr th:only-of-type {\n",
       "        vertical-align: middle;\n",
       "    }\n",
       "\n",
       "    .dataframe tbody tr th {\n",
       "        vertical-align: top;\n",
       "    }\n",
       "\n",
       "    .dataframe thead th {\n",
       "        text-align: right;\n",
       "    }\n",
       "</style>\n",
       "<table border=\"1\" class=\"dataframe\">\n",
       "  <thead>\n",
       "    <tr style=\"text-align: right;\">\n",
       "      <th></th>\n",
       "      <th>TDLR Number</th>\n",
       "    </tr>\n",
       "  </thead>\n",
       "  <tbody>\n",
       "    <tr>\n",
       "      <th>0</th>\n",
       "      <td>006565540C</td>\n",
       "    </tr>\n",
       "    <tr>\n",
       "      <th>1</th>\n",
       "      <td>0654479VSF</td>\n",
       "    </tr>\n",
       "    <tr>\n",
       "      <th>2</th>\n",
       "      <td>006564940C</td>\n",
       "    </tr>\n",
       "  </tbody>\n",
       "</table>\n",
       "</div>"
      ],
      "text/plain": [
       "  TDLR Number\n",
       "0  006565540C\n",
       "1  0654479VSF\n",
       "2  006564940C"
      ]
     },
     "execution_count": 98,
     "metadata": {},
     "output_type": "execute_result"
    }
   ],
   "source": [
    "import pandas as pd\n",
    "df = pd.read_csv('trucks-subset.csv')\n",
    "df.head()"
   ]
  },
  {
   "cell_type": "markdown",
   "metadata": {},
   "source": [
    "## Scrape every single row, creating a list of dictionaries from the scraped data.\n",
    "\n",
    "You should never use for loops with pandas *except when working with Playwright*. To use loops in pandas you'll make use of `.iterrows()`.\n",
    "\n",
    "The code below loops through a dataframe called `df` and prints out the `address` column.\n",
    "\n",
    "```python\n",
    "for index, row in df.iterrows():\n",
    "    print(row['address'])\n",
    "```\n",
    "\n",
    "You'll adapt this code to use your dataframe, and combine it with the scraping code you wrote above.\n",
    "\n",
    "> ***Tip:** This is like what we did for the townships in class*"
   ]
  },
  {
   "cell_type": "code",
   "execution_count": 99,
   "metadata": {},
   "outputs": [
    {
     "name": "stdout",
     "output_type": "stream",
     "text": [
      "006565540C\n",
      "0654479VSF\n",
      "006564940C\n"
     ]
    }
   ],
   "source": [
    "for index, row in df.iterrows():\n",
    "    print(row['TDLR Number'])"
   ]
  },
  {
   "cell_type": "code",
   "execution_count": 100,
   "metadata": {},
   "outputs": [
    {
     "data": {
      "text/plain": [
       "[{'TDLR_Number': '006565540C',\n",
       "  'Business_name': 'H & A TOWING LLC ',\n",
       "  'Phone_number': '512-999-8883',\n",
       "  'License_status': 'Expired',\n",
       "  'Physical_address': '11710 JOSEPH CLAYTON DR    AUSTIN,TX.78753'},\n",
       " {'TDLR_Number': '0654479VSF',\n",
       "  'Business_name': '24/7TOWINGANDRECOVERYLLC',\n",
       "  'Phone_number': '4325576733',\n",
       "  'License_status': 'Active',\n",
       "  'Physical_address': '3601 N COUNTY ROAD 1148    MIDLAND,TX.79705'},\n",
       " {'TDLR_Number': '006564940C',\n",
       "  'Business_name': 'A&NTOWINGLLC',\n",
       "  'Phone_number': '2106678546',\n",
       "  'License_status': 'Active',\n",
       "  'Physical_address': '1341  GAYLE LN    POTEET,TX.78065'}]"
      ]
     },
     "execution_count": 100,
     "metadata": {},
     "output_type": "execute_result"
    }
   ],
   "source": [
    "all_dic = []\n",
    "for index, row in df.iterrows():\n",
    "    tdlr_number = row['TDLR Number']\n",
    "    await page.goto(\"https://www.tdlr.texas.gov/tools_search/\")\n",
    "    await page.locator(\"#mcrbutton\").click()\n",
    "    await page.locator(\"#mcrdata\").fill(tdlr_number)\n",
    "    await page.get_by_text(\"Search\", exact=True).click()\n",
    "    html = await page.content()\n",
    "    doc = BeautifulSoup(html)\n",
    "    table1 = doc.find('table', align='center', border=\"0\", cellpadding=\"0\", cellspacing=\"0\", width=\"\")\n",
    "    info = table1.find_all('td')\n",
    "    Business_name = info[2].text.split('\\xa0')[-1]\n",
    "    Phone_number = info[-2].text.split('\\xa0')[-1]\n",
    "    table2 = doc.find('table', align='center', border=\"1\", cellpadding=\"1\", cellspacing=\"0\")\n",
    "    info = table2.find_all('td')\n",
    "    License_status = info[1].text.split('\\xa0')[-1]\n",
    "    Physical_address = info[-1].text.split('Physical:')[-1].replace('\\n', '').replace('\\t', '').replace('\\xa0', '')\n",
    "    dic = {\n",
    "    'TDLR_Number': tdlr_number,\n",
    "    'Business_name': Business_name,\n",
    "    'Phone_number': Phone_number,\n",
    "    'License_status': License_status,\n",
    "    'Physical_address': Physical_address.strip()\n",
    "    }\n",
    "    all_dic.append(dic)\n",
    "all_dic"
   ]
  },
  {
   "cell_type": "code",
   "execution_count": null,
   "metadata": {},
   "outputs": [],
   "source": []
  },
  {
   "cell_type": "code",
   "execution_count": null,
   "metadata": {},
   "outputs": [],
   "source": []
  },
  {
   "cell_type": "markdown",
   "metadata": {},
   "source": [
    "## Save your dataframe as `data-uncleaned.csv`"
   ]
  },
  {
   "cell_type": "code",
   "execution_count": 101,
   "metadata": {},
   "outputs": [
    {
     "data": {
      "text/html": [
       "<div>\n",
       "<style scoped>\n",
       "    .dataframe tbody tr th:only-of-type {\n",
       "        vertical-align: middle;\n",
       "    }\n",
       "\n",
       "    .dataframe tbody tr th {\n",
       "        vertical-align: top;\n",
       "    }\n",
       "\n",
       "    .dataframe thead th {\n",
       "        text-align: right;\n",
       "    }\n",
       "</style>\n",
       "<table border=\"1\" class=\"dataframe\">\n",
       "  <thead>\n",
       "    <tr style=\"text-align: right;\">\n",
       "      <th></th>\n",
       "      <th>TDLR_Number</th>\n",
       "      <th>Business_name</th>\n",
       "      <th>Phone_number</th>\n",
       "      <th>License_status</th>\n",
       "      <th>Physical_address</th>\n",
       "    </tr>\n",
       "  </thead>\n",
       "  <tbody>\n",
       "    <tr>\n",
       "      <th>0</th>\n",
       "      <td>006565540C</td>\n",
       "      <td>H &amp; A TOWING LLC</td>\n",
       "      <td>512-999-8883</td>\n",
       "      <td>Expired</td>\n",
       "      <td>11710 JOSEPH CLAYTON DR    AUSTIN,TX.78753</td>\n",
       "    </tr>\n",
       "    <tr>\n",
       "      <th>1</th>\n",
       "      <td>0654479VSF</td>\n",
       "      <td>24/7TOWINGANDRECOVERYLLC</td>\n",
       "      <td>4325576733</td>\n",
       "      <td>Active</td>\n",
       "      <td>3601 N COUNTY ROAD 1148    MIDLAND,TX.79705</td>\n",
       "    </tr>\n",
       "    <tr>\n",
       "      <th>2</th>\n",
       "      <td>006564940C</td>\n",
       "      <td>A&amp;NTOWINGLLC</td>\n",
       "      <td>2106678546</td>\n",
       "      <td>Active</td>\n",
       "      <td>1341  GAYLE LN    POTEET,TX.78065</td>\n",
       "    </tr>\n",
       "  </tbody>\n",
       "</table>\n",
       "</div>"
      ],
      "text/plain": [
       "  TDLR_Number             Business_name  Phone_number License_status  \\\n",
       "0  006565540C         H & A TOWING LLC   512-999-8883        Expired   \n",
       "1  0654479VSF  24/7TOWINGANDRECOVERYLLC    4325576733         Active   \n",
       "2  006564940C              A&NTOWINGLLC    2106678546         Active   \n",
       "\n",
       "                              Physical_address  \n",
       "0   11710 JOSEPH CLAYTON DR    AUSTIN,TX.78753  \n",
       "1  3601 N COUNTY ROAD 1148    MIDLAND,TX.79705  \n",
       "2            1341  GAYLE LN    POTEET,TX.78065  "
      ]
     },
     "execution_count": 101,
     "metadata": {},
     "output_type": "execute_result"
    }
   ],
   "source": [
    "TDLR_df = pd.DataFrame(all_dic)\n",
    "TDLR_df.to_csv(\"data-uncleaned.csv\", index=False)\n",
    "TDLR_df.head()"
   ]
  },
  {
   "cell_type": "markdown",
   "metadata": {},
   "source": [
    "# Cleaning your data\n",
    "\n",
    "## Re-open the `data-uncleaned.csv` file\n",
    "\n",
    "You probably want to set `pd.options.display.max_colwidth`"
   ]
  },
  {
   "cell_type": "code",
   "execution_count": 102,
   "metadata": {},
   "outputs": [
    {
     "data": {
      "text/html": [
       "<div>\n",
       "<style scoped>\n",
       "    .dataframe tbody tr th:only-of-type {\n",
       "        vertical-align: middle;\n",
       "    }\n",
       "\n",
       "    .dataframe tbody tr th {\n",
       "        vertical-align: top;\n",
       "    }\n",
       "\n",
       "    .dataframe thead th {\n",
       "        text-align: right;\n",
       "    }\n",
       "</style>\n",
       "<table border=\"1\" class=\"dataframe\">\n",
       "  <thead>\n",
       "    <tr style=\"text-align: right;\">\n",
       "      <th></th>\n",
       "      <th>TDLR_Number</th>\n",
       "      <th>Business_name</th>\n",
       "      <th>Phone_number</th>\n",
       "      <th>License_status</th>\n",
       "      <th>Physical_address</th>\n",
       "    </tr>\n",
       "  </thead>\n",
       "  <tbody>\n",
       "    <tr>\n",
       "      <th>0</th>\n",
       "      <td>006565540C</td>\n",
       "      <td>H &amp; A TOWING LLC</td>\n",
       "      <td>512-999-8883</td>\n",
       "      <td>Expired</td>\n",
       "      <td>11710 JOSEPH CLAYTON DR    AUSTIN,TX.78753</td>\n",
       "    </tr>\n",
       "    <tr>\n",
       "      <th>1</th>\n",
       "      <td>0654479VSF</td>\n",
       "      <td>24/7TOWINGANDRECOVERYLLC</td>\n",
       "      <td>4325576733</td>\n",
       "      <td>Active</td>\n",
       "      <td>3601 N COUNTY ROAD 1148    MIDLAND,TX.79705</td>\n",
       "    </tr>\n",
       "    <tr>\n",
       "      <th>2</th>\n",
       "      <td>006564940C</td>\n",
       "      <td>A&amp;NTOWINGLLC</td>\n",
       "      <td>2106678546</td>\n",
       "      <td>Active</td>\n",
       "      <td>1341  GAYLE LN    POTEET,TX.78065</td>\n",
       "    </tr>\n",
       "  </tbody>\n",
       "</table>\n",
       "</div>"
      ],
      "text/plain": [
       "  TDLR_Number             Business_name  Phone_number License_status  \\\n",
       "0  006565540C         H & A TOWING LLC   512-999-8883        Expired   \n",
       "1  0654479VSF  24/7TOWINGANDRECOVERYLLC    4325576733         Active   \n",
       "2  006564940C              A&NTOWINGLLC    2106678546         Active   \n",
       "\n",
       "                              Physical_address  \n",
       "0   11710 JOSEPH CLAYTON DR    AUSTIN,TX.78753  \n",
       "1  3601 N COUNTY ROAD 1148    MIDLAND,TX.79705  \n",
       "2            1341  GAYLE LN    POTEET,TX.78065  "
      ]
     },
     "execution_count": 102,
     "metadata": {},
     "output_type": "execute_result"
    }
   ],
   "source": [
    "df = pd.read_csv('data-uncleaned.csv')\n",
    "df.head()"
   ]
  },
  {
   "cell_type": "markdown",
   "metadata": {},
   "source": [
    "## Clean it up!\n",
    "\n",
    "Make sure there are columns for\n",
    "\n",
    "- Business name\n",
    "- Phone number\n",
    "- License status\n",
    "- Physical address\n",
    "\n",
    "And drop all of the other columns (The easiest way is to use `df = df.drop(columns=[...])`)"
   ]
  },
  {
   "cell_type": "code",
   "execution_count": null,
   "metadata": {},
   "outputs": [],
   "source": []
  },
  {
   "cell_type": "code",
   "execution_count": null,
   "metadata": {},
   "outputs": [],
   "source": []
  },
  {
   "cell_type": "markdown",
   "metadata": {},
   "source": [
    "## Combine with the original CSV file\n",
    "\n",
    "To combine dataframes based on indexes, you use `df.join(other_df)`. If you'd prefer to match by columns, you could also use `df.merge(other_df, left_on='...', right_on='...')` and tell it the two columns that match between the two."
   ]
  },
  {
   "cell_type": "code",
   "execution_count": null,
   "metadata": {},
   "outputs": [],
   "source": []
  },
  {
   "cell_type": "code",
   "execution_count": null,
   "metadata": {},
   "outputs": [],
   "source": []
  },
  {
   "cell_type": "markdown",
   "metadata": {},
   "source": [
    "### Save to a CSV"
   ]
  },
  {
   "cell_type": "code",
   "execution_count": null,
   "metadata": {},
   "outputs": [],
   "source": []
  }
 ],
 "metadata": {
  "kernelspec": {
   "display_name": "Python 3 (ipykernel)",
   "language": "python",
   "name": "python3"
  },
  "language_info": {
   "codemirror_mode": {
    "name": "ipython",
    "version": 3
   },
   "file_extension": ".py",
   "mimetype": "text/x-python",
   "name": "python",
   "nbconvert_exporter": "python",
   "pygments_lexer": "ipython3",
   "version": "3.11.6"
  }
 },
 "nbformat": 4,
 "nbformat_minor": 4
}
